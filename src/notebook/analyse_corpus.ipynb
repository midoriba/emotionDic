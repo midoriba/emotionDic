{
 "cells": [
  {
   "cell_type": "code",
   "execution_count": 1,
   "metadata": {},
   "outputs": [],
   "source": [
    "import pandas as pd\n",
    "import os"
   ]
  },
  {
   "cell_type": "markdown",
   "metadata": {},
   "source": [
    "### 辞書作成"
   ]
  },
  {
   "cell_type": "code",
   "execution_count": 1,
   "metadata": {},
   "outputs": [],
   "source": [
    "import sys\n",
    "from pathlib import Path\n",
    "import pandas as pd\n",
    "import os\n",
    "\n",
    "sys.path.append(str(Path(os.path.dirname(os.path.abspath(\"__file__\"))).parent.joinpath('modules')))\n",
    "import sentence\n",
    "import dictionary\n",
    "\n",
    "base = str(Path(os.path.dirname(os.path.abspath(\"__file__\"))).parent.parent)"
   ]
  },
  {
   "cell_type": "code",
   "execution_count": 3,
   "metadata": {},
   "outputs": [],
   "source": [
    "#係り受け保存\n",
    "files = [f'{base}/data/modnucc/newnucc/{i}' for i in os.listdir(f'{base}/data/modnucc/newnucc')]\n",
    "files = sorted(files)\n",
    "\n",
    "\n",
    "for index, file in enumerate(files):\n",
    "    result = []\n",
    "    with open(file, encoding='utf-8', mode='r') as f:\n",
    "        lines = f.readlines()\n",
    "        for l in lines:\n",
    "            #print(l.strip())\n",
    "            result.append(sentence.read_sentence(l.strip()).to_json())\n",
    "    with open(f'{base}/data/modnucc/dependency/dependency{index}.txt', encoding='utf-8', mode='w') as f:\n",
    "        f.write('\\n'.join(result) + '\\n')\n"
   ]
  },
  {
   "cell_type": "code",
   "execution_count": 11,
   "metadata": {},
   "outputs": [],
   "source": [
    "#頻度更新\n",
    "import pandas as pd\n",
    "files = [f'{base}/data/modnucc/dependency/{i}' for i in os.listdir(f'{base}/data/modnucc/dependency')]\n",
    "files = sorted(files)\n",
    "dic = {}\n",
    "for file in files:\n",
    "    with open(file, encoding='utf-8', mode='r') as f:\n",
    "        lines = f.readlines()\n",
    "        for l in lines:\n",
    "            s = sentence.read_json(l.strip())\n",
    "            for i, j in zip(s.base_form_words, s.word_category):\n",
    "                key = f'{i}||{j}'\n",
    "                if(key in dic):\n",
    "                    dic[key] += 1\n",
    "                else:\n",
    "                    dic[key] = 1\n",
    "df = pd.DataFrame(columns=['lemma', 'word_category', 'frequency'])\n",
    "counter = 0\n",
    "for i, j in dic.items():\n",
    "    lemma, word_category = i.split('||')\n",
    "    df.at[counter, 'lemma'] = lemma\n",
    "    df.at[counter, 'word_category'] = word_category\n",
    "    df.at[counter, 'frequency'] = j\n",
    "    counter += 1\n",
    "df.sort_values('frequency', ascending=False).to_csv(f'{base}/data/modnucc/frequency_wc.csv', encoding='utf-8', index=0)"
   ]
  },
  {
   "cell_type": "code",
   "execution_count": 14,
   "metadata": {},
   "outputs": [],
   "source": []
  },
  {
   "cell_type": "code",
   "execution_count": 7,
   "metadata": {},
   "outputs": [
    {
     "name": "stdout",
     "output_type": "stream",
     "text": [
      "驚く (動詞) (6.123233995736766e-17, 1.0)\n",
      "むかつく (動詞) (-0.8660254037844387, 0.49999999999999994)\n",
      "疲れる (動詞) (-0.5000000000000004, -0.8660254037844384)\n",
      "眠る (動詞) (-1.8369701987210297e-16, -1.0)\n",
      "落ち着く (動詞) (0.5, -0.8660254037844386)\n",
      "嬉しい (形容詞) (1.0, 0.0)\n",
      "うれしい (形容詞) (1.0, 0.0)\n",
      "楽しい (形容詞) (0.8660254037844387, 0.49999999999999994)\n",
      "怖い (形容詞) (-0.4999999999999998, 0.8660254037844388)\n",
      "恐ろしい (形容詞) (-0.4999999999999998, 0.8660254037844388)\n",
      "つらい (形容詞) (-1.0, 1.2246467991473532e-16)\n",
      "悲しい (形容詞) (-0.8660254037844386, -0.5000000000000001)\n",
      "しんどい (形容詞) (-0.8660254037844386, -0.5000000000000001)\n",
      "だるい (形容詞) (-0.5000000000000004, -0.8660254037844384)\n",
      "眠い (形容詞) (-1.8369701987210297e-16, -1.0)\n",
      "のんびり (副詞) (0.5, -0.8660254037844386)\n",
      "ほっと (副詞) (0.5, -0.8660254037844386)\n",
      "興奮 (名詞) (0.5000000000000001, 0.8660254037844386)\n",
      "衝撃 (名詞) (6.123233995736766e-17, 1.0)\n",
      "びっくり (名詞) (6.123233995736766e-17, 1.0)\n",
      "最悪 (名詞) (-1.0, 1.2246467991473532e-16)\n",
      "嫌 (名詞) (-1.0, 1.2246467991473532e-16)\n",
      "憂鬱 (名詞) (-0.8660254037844386, -0.5000000000000001)\n",
      "安心 (名詞) (0.5, -0.8660254037844386)\n",
      "満足 (名詞) (0.8660254037844384, -0.5000000000000004)\n",
      "リラックス (名詞) (0.5, -0.8660254037844386)\n",
      "やったー (感動詞) (0.5000000000000001, 0.8660254037844386)\n"
     ]
    }
   ],
   "source": [
    "import math\n",
    "import json\n",
    "#辞書作成\n",
    "seed = 'emot5.json'\n",
    "\n",
    "files = [f'{base}/data/modnucc/dependency/{i}' for i in os.listdir(f'{base}/data/modnucc/dependency')]\n",
    "files = sorted(files)\n",
    "# 種表現\n",
    "emo_dict = dictionary.wordEmotionDictionary(seed)\n",
    "'''\n",
    "with open(f'{base}/conf/seeds/{seed}', encoding='utf-8', mode='r') as f:\n",
    "    seed_dic = json.load(f)\n",
    "    for word_category, words in seed_dic.items():\n",
    "        for lemma, degree in words.items():\n",
    "            rad = math.radians(degree)\n",
    "            x = math.cos(rad)\n",
    "            y = math.sin(rad)\n",
    "            emo_dict[lemma, word_category].init_value(x, y)'''\n",
    "\n",
    "for i in emo_dict.describe():\n",
    "    print(i)\n"
   ]
  },
  {
   "cell_type": "code",
   "execution_count": 3,
   "metadata": {},
   "outputs": [],
   "source": [
    "# 係り受け解析ずみのデータを読み込み\n",
    "data = []\n",
    "for index, file in enumerate(files):\n",
    "    with open(file, encoding='utf-8', mode='r') as f:\n",
    "        lines = f.readlines()\n",
    "        for l in lines:\n",
    "            s = sentence.read_json(l.strip())\n",
    "            data.append(s)            \n",
    "            "
   ]
  },
  {
   "cell_type": "code",
   "execution_count": 10,
   "metadata": {},
   "outputs": [
    {
     "data": {
      "text/plain": [
       "0"
      ]
     },
     "execution_count": 10,
     "metadata": {},
     "output_type": "execute_result"
    }
   ],
   "source": [
    "emo_dict.learn(data)"
   ]
  },
  {
   "cell_type": "code",
   "execution_count": 11,
   "metadata": {},
   "outputs": [
    {
     "data": {
      "text/plain": [
       "2"
      ]
     },
     "execution_count": 11,
     "metadata": {},
     "output_type": "execute_result"
    }
   ],
   "source": [
    "emo_dict.learn_time"
   ]
  },
  {
   "cell_type": "code",
   "execution_count": 12,
   "metadata": {},
   "outputs": [],
   "source": [
    "emo_dict.to_file()"
   ]
  },
  {
   "cell_type": "code",
   "execution_count": 9,
   "metadata": {},
   "outputs": [
    {
     "data": {
      "text/plain": [
       "23405"
      ]
     },
     "execution_count": 9,
     "metadata": {},
     "output_type": "execute_result"
    }
   ],
   "source": [
    "len(emo_dict.dictionary)"
   ]
  },
  {
   "cell_type": "code",
   "execution_count": null,
   "metadata": {},
   "outputs": [],
   "source": [
    "for i in emo_dict.describe():\n",
    "    print(i)"
   ]
  },
  {
   "cell_type": "code",
   "execution_count": 3,
   "metadata": {},
   "outputs": [
    {
     "name": "stdout",
     "output_type": "stream",
     "text": [
      "{'記号', 'フィラー', '助動詞', '連体詞', '形容詞', '助詞', '接続詞', '動詞', '名詞', '感動詞', 'その他', '接頭詞', '副詞'}\n"
     ]
    }
   ],
   "source": [
    "df = pd.read_csv(f'{base}/output/emodict/output_202302282352/output.csv', encoding='utf-8', dtype=str)\n",
    "print(set(df['word_category']))"
   ]
  },
  {
   "cell_type": "code",
   "execution_count": null,
   "metadata": {},
   "outputs": [],
   "source": []
  }
 ],
 "metadata": {
  "interpreter": {
   "hash": "7a0fd0f0d99e5d6864c7c7afe1c6989aa5d650cea056a3048f58a96658917535"
  },
  "kernelspec": {
   "display_name": "Python 3.9.6 ('.venv': venv)",
   "language": "python",
   "name": "python3"
  },
  "language_info": {
   "codemirror_mode": {
    "name": "ipython",
    "version": 3
   },
   "file_extension": ".py",
   "mimetype": "text/x-python",
   "name": "python",
   "nbconvert_exporter": "python",
   "pygments_lexer": "ipython3",
   "version": "3.9.6"
  },
  "orig_nbformat": 4,
  "vscode": {
   "interpreter": {
    "hash": "7e396e0f1d014e6d4688c34e25a2be33cc89bd41abd4bd6fd915d760d011226e"
   }
  }
 },
 "nbformat": 4,
 "nbformat_minor": 2
}
