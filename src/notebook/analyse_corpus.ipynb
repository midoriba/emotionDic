{
 "cells": [
  {
   "cell_type": "code",
   "execution_count": null,
   "metadata": {},
   "outputs": [],
   "source": [
    "import pandas as pd\n",
    "import corpus\n",
    "import os"
   ]
  },
  {
   "cell_type": "code",
   "execution_count": null,
   "metadata": {},
   "outputs": [],
   "source": [
    "word_count = dict()\n",
    "filecount = 0\n",
    "for file in sorted(os.listdir(os.path.join('moddata','nucc')))[:]:    \n",
    "    filecount += 1\n",
    "    print(filecount)\n",
    "    try:\n",
    "        cp = corpus.Corpus(os.path.join('moddata','nucc',file))\n",
    "    except:\n",
    "        print('read error')\n",
    "        continue\n",
    "    for sentence in cp.conversation:\n",
    "        for word in sentence.sentence_word_list:\n",
    "            if(word.lemma in word_count.keys()):\n",
    "                word_count[word.lemma] += 1\n",
    "            else:\n",
    "                word_count[word.lemma] = 1\n",
    "print(word_count)"
   ]
  },
  {
   "cell_type": "code",
   "execution_count": 5,
   "metadata": {},
   "outputs": [],
   "source": [
    "to = []\n",
    "for key, item in word_count.items():\n",
    "    to.append({'lemma':key, 'frequency':item})\n",
    "df = pd.DataFrame(to)\n",
    "df.sort_values('frequency', ascending=False).to_csv('moddata/frequency.csv', encoding='utf-8', index=False)"
   ]
  },
  {
   "cell_type": "code",
   "execution_count": null,
   "metadata": {},
   "outputs": [],
   "source": []
  }
 ],
 "metadata": {
  "kernelspec": {
   "display_name": ".venv",
   "language": "python",
   "name": "python3"
  },
  "language_info": {
   "codemirror_mode": {
    "name": "ipython",
    "version": 3
   },
   "file_extension": ".py",
   "mimetype": "text/x-python",
   "name": "python",
   "nbconvert_exporter": "python",
   "pygments_lexer": "ipython3",
   "version": "3.8.10 (default, Nov 26 2021, 20:14:08) \n[GCC 9.3.0]"
  },
  "orig_nbformat": 4,
  "vscode": {
   "interpreter": {
    "hash": "7e396e0f1d014e6d4688c34e25a2be33cc89bd41abd4bd6fd915d760d011226e"
   }
  }
 },
 "nbformat": 4,
 "nbformat_minor": 2
}
