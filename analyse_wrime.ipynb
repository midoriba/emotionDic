{
 "cells": [
  {
   "cell_type": "code",
   "execution_count": 170,
   "metadata": {},
   "outputs": [],
   "source": [
    "import pandas as pd\n",
    "import CaboCha\n",
    "import os"
   ]
  },
  {
   "cell_type": "code",
   "execution_count": 73,
   "metadata": {},
   "outputs": [
    {
     "data": {
      "text/plain": [
       "(43200, 44)"
      ]
     },
     "execution_count": 73,
     "metadata": {},
     "output_type": "execute_result"
    }
   ],
   "source": [
    "df = pd.read_table('wrime/wrime-ver1.tsv', encoding='utf-8')\n",
    "df.shape"
   ]
  },
  {
   "cell_type": "code",
   "execution_count": 8,
   "metadata": {},
   "outputs": [],
   "source": [
    "df['score_sum'] = df['Avg. Readers_Joy'] + df['Avg. Readers_Sadness'] + df['Avg. Readers_Anticipation'] + df['Avg. Readers_Surprise'] + df['Avg. Readers_Anger'] + df['Avg. Readers_Fear'] + df['Avg. Readers_Disgust'] + df['Avg. Readers_Trust']"
   ]
  },
  {
   "cell_type": "code",
   "execution_count": 4,
   "metadata": {},
   "outputs": [],
   "source": [
    "count = 0"
   ]
  },
  {
   "cell_type": "code",
   "execution_count": 56,
   "metadata": {},
   "outputs": [
    {
     "name": "stdout",
     "output_type": "stream",
     "text": [
      "出かけたときの「あれ食べたい」「これ食べたい」には負けてしまう。\n"
     ]
    }
   ],
   "source": [
    "print(df.loc[df['score_sum']==0].iat[count,0] )\n",
    "count += 1\n"
   ]
  },
  {
   "cell_type": "code",
   "execution_count": 14,
   "metadata": {},
   "outputs": [
    {
     "name": "stdout",
     "output_type": "stream",
     "text": [
      "誰か鍋食べにいこお～または鍋に呼んでください！味噌鍋とかチゲとか濃い～のん食べたい！あ、カレー鍋でも可… 笑\n"
     ]
    }
   ],
   "source": [
    "print(df.loc[df['Avg. Readers_Trust'] > 1].iat[count,0])\n",
    "count +=1"
   ]
  },
  {
   "cell_type": "code",
   "execution_count": 159,
   "metadata": {},
   "outputs": [],
   "source": [
    "wrime_df = pd.read_table('wrime/wrime-ver1.tsv', encoding='utf-8')\n",
    "#c = CaboCha.Parser()\n",
    "c = CaboCha.Parser('-d /usr/local/lib/mecab/dic/mecab-ipadic-neologd')\n",
    "class DicElem:\n",
    "    def __init__(self, lemma, **kwargs):\n",
    "        self.lemma = lemma\n",
    "        self.score = {\n",
    "            \"Joy\":0,\n",
    "            \"Sadness\":0,\n",
    "            \"Anticipation\":0,\n",
    "            \"Surprise\":0,\n",
    "            \"Anger\":0,\n",
    "            \"Fear\":0,\n",
    "            \"Disgust\":0,\n",
    "            \"Trust\":0\n",
    "        }\n",
    "        self.frequency = 0\n",
    "        self.add_score(**kwargs)\n",
    "    def add_score(self, **kwargs):\n",
    "        for key, item in kwargs.items():\n",
    "            if(type(item) is int):\n",
    "                self.score[key] += item\n",
    "        self.frequency += 1\n",
    "        \n",
    "dic = dict()"
   ]
  },
  {
   "cell_type": "code",
   "execution_count": 160,
   "metadata": {},
   "outputs": [],
   "source": [
    "for i, row in wrime_df[:].iterrows():\n",
    "    tree = c.parse(row['Sentence'])\n",
    "    score = {\n",
    "        \"Joy\":row['Avg. Readers_Joy'],\n",
    "        \"Sadness\":row['Avg. Readers_Sadness'],\n",
    "        \"Anticipation\":row['Avg. Readers_Anticipation'],\n",
    "        \"Surprise\":row['Avg. Readers_Surprise'],\n",
    "        \"Anger\":row['Avg. Readers_Anger'],\n",
    "        \"Fear\":row['Avg. Readers_Fear'],\n",
    "        \"Disgust\":row['Avg. Readers_Disgust'],\n",
    "        \"Trust\":row['Avg. Readers_Trust']\n",
    "    }\n",
    "    for s_index in range(tree.size()):\n",
    "        token = tree.token(s_index)\n",
    "        features = token.feature.split(',')\n",
    "        lemma = features[6]\n",
    "        wordcategory = features[0]\n",
    "        subwordcategory = features[1]\n",
    "        if(lemma in dic.keys()):\n",
    "            dic[lemma].add_score(**score)\n",
    "        else:\n",
    "            dic[lemma] = DicElem(lemma, **score)"
   ]
  },
  {
   "cell_type": "code",
   "execution_count": 161,
   "metadata": {},
   "outputs": [],
   "source": [
    "to_df_dic = {\n",
    "    'lemma':[],\n",
    "    \"Joy\":[],\n",
    "    \"Sadness\":[],\n",
    "    \"Anticipation\":[],\n",
    "    \"Surprise\":[],\n",
    "    \"Anger\":[],\n",
    "    \"Fear\":[],\n",
    "    \"Disgust\":[],\n",
    "    \"Trust\":[],\n",
    "    \"Sum\":[],\n",
    "    \"ave_Joy\":[],\n",
    "    \"ave_Sadness\":[],\n",
    "    \"ave_Anticipation\":[],\n",
    "    \"ave_Surprise\":[],\n",
    "    \"ave_Anger\":[],\n",
    "    \"ave_Fear\":[],\n",
    "    \"ave_Disgust\":[],\n",
    "    \"ave_Trust\":[],\n",
    "    \"ave_Sum\":[],\n",
    "    \"norm\":[],\n",
    "    \"frequency\":[]\n",
    "}\n",
    "for key, item in dic.items():\n",
    "    to_df_dic['lemma'].append(key)\n",
    "    frequency = item.frequency\n",
    "    to_df_dic['frequency'].append(frequency)\n",
    "    sum = 0\n",
    "    norm = 0\n",
    "    for s_key, s_item in item.score.items():\n",
    "        to_df_dic[s_key].append(s_item)\n",
    "        sum += s_item\n",
    "        norm += (s_item/frequency) ** 2\n",
    "        to_df_dic[f'ave_{s_key}'].append(s_item/frequency)\n",
    "    norm = norm ** 0.5\n",
    "    to_df_dic['Sum'].append(sum)\n",
    "    to_df_dic['ave_Sum'].append(sum/frequency)\n",
    "    to_df_dic['norm'].append(norm)\n",
    "    "
   ]
  },
  {
   "cell_type": "code",
   "execution_count": 162,
   "metadata": {},
   "outputs": [],
   "source": [
    "word_df = pd.DataFrame(to_df_dic)\n",
    "word_df.to_csv('wrime_word.csv', encoding='utf-8', index=0)"
   ]
  },
  {
   "cell_type": "code",
   "execution_count": 86,
   "metadata": {},
   "outputs": [],
   "source": [
    "word_df.loc[word_df['frequency'] > 10].sort_values('norm', ascending=False).to_csv('emotional_words.csv', encoding='utf-8', index=False)"
   ]
  },
  {
   "cell_type": "code",
   "execution_count": 177,
   "metadata": {},
   "outputs": [
    {
     "name": "stdout",
     "output_type": "stream",
     "text": [
      "      lemma  frequency\n",
      "46       眠い        295\n",
      "209     嬉しい        337\n",
      "217      幸せ        332\n",
      "388      安心         68\n",
      "1703      嫌        258\n",
      "1746    疲れる        332\n",
      "2001     興奮         25\n",
      "2013   イライラ         84\n",
      "2637     怖い        322\n",
      "5877     疲れ         56\n",
      "5888     驚き         21\n",
      "8951    息抜き          9\n",
      "20295    憂鬱         30\n",
      "23381    休息          3\n",
      "25195  だらける          8\n",
      "[]\n"
     ]
    }
   ],
   "source": [
    "target_words = ['嬉しい','興奮', '幸せ', '驚き', 'イライラ', '怖い', '嫌', '憂鬱', '疲れ', '疲れる', '眠い', '息抜き', '休息' , 'だらける', '安心']\n",
    "res = word_df.loc[word_df['lemma'].isin(target_words), ['lemma','frequency']]\n",
    "target_words = list(res['lemma'])\n",
    "print(res)\n",
    "print([i for i in target_words if not i in list(res['lemma'])])"
   ]
  },
  {
   "cell_type": "code",
   "execution_count": 179,
   "metadata": {},
   "outputs": [
    {
     "name": "stdout",
     "output_type": "stream",
     "text": [
      "skip 眠い\n",
      "skip 嬉しい\n",
      "skip 幸せ\n",
      "skip 安心\n",
      "skip 嫌\n",
      "skip 疲れる\n",
      "skip 興奮\n",
      "skip イライラ\n",
      "skip 怖い\n",
      "skip 疲れ\n",
      "skip 驚き\n",
      "skip 息抜き\n",
      "skip 憂鬱\n",
      "skip 休息\n",
      "skip だらける\n"
     ]
    }
   ],
   "source": [
    "#word_df.loc[word_df['lemma']=='安心'].at[word_df.index[0],'lemma']\n",
    "can_override = False\n",
    "for target_word in target_words:\n",
    "    if(not can_override and f'{target_word}.csv' in os.listdir('near_neologd')):\n",
    "        print(f'skip {target_word}')\n",
    "        continue\n",
    "    else:\n",
    "        print(f'write {target_word}')\n",
    "    rows = [\n",
    "        \"ave_Joy\",\n",
    "        \"ave_Sadness\",\n",
    "        \"ave_Anticipation\",\n",
    "        \"ave_Surprise\",\n",
    "        \"ave_Anger\",\n",
    "        \"ave_Fear\",\n",
    "        \"ave_Disgust\",\n",
    "        \"ave_Trust\",\n",
    "        \"ave_Sum\",\n",
    "    ]\n",
    "    tmp = word_df.loc[word_df['lemma']==target_word]\n",
    "    try:\n",
    "        target_vector = dict(tmp.loc[tmp.index[0], rows])\n",
    "    except:\n",
    "        print(target_word, 'no')\n",
    "        continue\n",
    "    #print(target_vector)\n",
    "\n",
    "    def cos_similarity(r1, r2):\n",
    "        norm1 = 0\n",
    "        norm2 = 0\n",
    "        inner = 0\n",
    "        for i in rows:\n",
    "            norm1 += r1[i]**2 \n",
    "            norm2 += r2[i]**2\n",
    "            inner += r1[i] * r2[i]\n",
    "        if(norm1 == 0 or norm2 == 0):\n",
    "            return 999\n",
    "        else:\n",
    "            return inner / (norm1**0.5 * norm2**0.5)\n",
    "\n",
    "    cos_df = word_df.copy()\n",
    "    for index, row in cos_df.iterrows():\n",
    "        cos_df.at[index, f'cos_with_{target_word}'] = cos_similarity(target_vector, row)\n",
    "    cos_df.loc[cos_df['frequency'] > 10].sort_values(f'cos_with_{target_word}', ascending=False).loc[:, ['lemma',f'cos_with_{target_word}', 'frequency']].to_csv(f'near_neologd/{target_word}.csv')\n"
   ]
  },
  {
   "cell_type": "code",
   "execution_count": 148,
   "metadata": {},
   "outputs": [],
   "source": [
    "cos_df.loc[cos_df['frequency'] > 10].sort_values(f'cos_with_{target_word}', ascending=False).loc[:, ['lemma',f'cos_with_{target_word}', 'frequency']].to_csv(f'near/{target_word}.csv')"
   ]
  },
  {
   "cell_type": "code",
   "execution_count": 149,
   "metadata": {},
   "outputs": [
    {
     "data": {
      "text/plain": [
       "0.8660254"
      ]
     },
     "execution_count": 149,
     "metadata": {},
     "output_type": "execute_result"
    }
   ],
   "source": [
    "1.7320508/2"
   ]
  },
  {
   "cell_type": "code",
   "execution_count": null,
   "metadata": {},
   "outputs": [],
   "source": []
  }
 ],
 "metadata": {
  "interpreter": {
   "hash": "7a0fd0f0d99e5d6864c7c7afe1c6989aa5d650cea056a3048f58a96658917535"
  },
  "kernelspec": {
   "display_name": "Python 3.9.6 ('.venv': venv)",
   "language": "python",
   "name": "python3"
  },
  "language_info": {
   "codemirror_mode": {
    "name": "ipython",
    "version": 3
   },
   "file_extension": ".py",
   "mimetype": "text/x-python",
   "name": "python",
   "nbconvert_exporter": "python",
   "pygments_lexer": "ipython3",
   "version": "3.9.6"
  },
  "orig_nbformat": 4
 },
 "nbformat": 4,
 "nbformat_minor": 2
}
