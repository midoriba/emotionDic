{
 "cells": [
  {
   "cell_type": "markdown",
   "metadata": {},
   "source": []
  },
  {
   "cell_type": "code",
   "execution_count": 72,
   "metadata": {},
   "outputs": [],
   "source": [
    "import spacy\n",
    "from ginza import *\n",
    "import corpus"
   ]
  },
  {
   "cell_type": "code",
   "execution_count": 52,
   "metadata": {},
   "outputs": [
    {
     "name": "stderr",
     "output_type": "stream",
     "text": [
      "error megagonlabs/transformers-ud-japanese-electra-base-ginza-510 does not appear to have a file named config.json.\n",
      "error We couldn't connect to 'https://huggingface.co' to load this model, couldn't find it in the cached files and it looks like /tmp/tmplpgr4l10/config.json is not the path to a directory containing a config.json file.\n",
      "Checkout your internet connection or see how to run the library in offline mode at 'https://huggingface.co/docs/transformers/installation#offline-mode'.\n",
      "trying to download model from huggingface hub: megagonlabs/transformers-ud-japanese-electra-base-ginza-510 ...\n",
      "Downloading config.json: 100%|██████████| 815/815 [00:00<00:00, 1.12MB/s]\n",
      "Downloading pytorch_model.bin: 100%|██████████| 414M/414M [01:07<00:00, 6.46MB/s] \n",
      "succeded\n"
     ]
    },
    {
     "data": {
      "text/plain": [
       "spacy.lang.ja.Japanese"
      ]
     },
     "execution_count": 52,
     "metadata": {},
     "output_type": "execute_result"
    }
   ],
   "source": [
    "nlp = spacy.load('ja_ginza_electra')\n",
    "type(nlp)"
   ]
  },
  {
   "cell_type": "code",
   "execution_count": 67,
   "metadata": {},
   "outputs": [
    {
     "name": "stdout",
     "output_type": "stream",
     "text": [
      "0 しかし しかし 然し ['シカシ'] CCONJ [] 接続詞 cc 14\n",
      "1 僕 僕 僕 ['ボク'] PRON [] 代名詞 nsubj 3\n",
      "2 は は は ['ハ'] ADP [] 助詞-係助詞 case 1\n",
      "3 犯人 犯人 犯人 ['ハンニン'] NOUN [] 名詞-普通名詞-一般 advcl 14\n",
      "4 で で で ['デ'] AUX [] 助詞-格助詞 cop 3\n",
      "5 は は は ['ハ'] ADP [] 助詞-係助詞 fixed 4\n",
      "6 ない ない 無い ['ナイ'] AUX ['形容詞;終止形-一般'] 形容詞-非自立可能 fixed 4\n",
      "7 し し し ['シ'] SCONJ [] 助詞-接続助詞 mark 3\n",
      "8 、 、 、 ['、'] PUNCT [] 補助記号-読点 punct 3\n",
      "9 そこ そこ そこ ['ソコ'] PRON [] 代名詞 obl 11\n",
      "10 に に に ['ニ'] ADP [] 助詞-格助詞 case 9\n",
      "11 行っ 行く 行く ['イッ'] VERB ['五段-カ行;連用形-促音便'] 動詞-非自立可能 advcl 14\n",
      "12 て て て ['テ'] SCONJ [] 助詞-接続助詞 mark 11\n",
      "13 も も も ['モ'] ADP [] 助詞-係助詞 case 11\n",
      "14 い いる 居る ['イ'] VERB ['上一段-ア行;未然形-一般'] 動詞-非自立可能 ROOT 14\n",
      "15 ない ない ない ['ナイ'] AUX ['助動詞-ナイ;終止形-一般'] 助動詞 aux 14\n",
      "16 。 。 。 ['。'] PUNCT [] 補助記号-句点 punct 14\n",
      "EOS\n"
     ]
    }
   ],
   "source": [
    "doc = nlp('しかし僕は犯人ではないし、そこに行ってもいない。')\n",
    "for sent in doc.sents:\n",
    "    for token in sent:\n",
    "        print(\n",
    "            token.i,\n",
    "            token.orth_,\n",
    "            token.lemma_,\n",
    "            token.norm_,\n",
    "            token.morph.get(\"Reading\"),\n",
    "            token.pos_,\n",
    "            token.morph.get(\"Inflection\"),\n",
    "            token.tag_,\n",
    "            token.dep_,\n",
    "            token.head.i,\n",
    "        )\n",
    "    print('EOS')"
   ]
  },
  {
   "cell_type": "code",
   "execution_count": 74,
   "metadata": {},
   "outputs": [
    {
     "name": "stdout",
     "output_type": "stream",
     "text": [
      "0 しかし しかし 然し ['シカシ'] CCONJ [] 接続詞 cc 14\n",
      "1 僕 僕 僕 ['ボク'] PRON [] 代名詞 nsubj 3\n",
      "3 犯人 犯人 犯人 ['ハンニン'] NOUN [] 名詞-普通名詞-一般 advcl 14\n",
      "9 そこ そこ そこ ['ソコ'] PRON [] 代名詞 obl 11\n",
      "11 行っ 行く 行く ['イッ'] VERB ['五段-カ行;連用形-促音便'] 動詞-非自立可能 advcl 14\n",
      "14 い いる 居る ['イ'] VERB ['上一段-ア行;未然形-一般'] 動詞-非自立可能 ROOT 14\n"
     ]
    }
   ],
   "source": [
    "from collections import defaultdict\n",
    "frames = defaultdict(lambda: 0)\n",
    "sentences = set()\n",
    "\n",
    "for sent in doc.sents:\n",
    "    for token in bunsetu_head_tokens(sent):\n",
    "        print(\n",
    "            token.i,\n",
    "            token.orth_,\n",
    "            token.lemma_,\n",
    "            token.norm_,\n",
    "            token.morph.get(\"Reading\"),\n",
    "            token.pos_,\n",
    "            token.morph.get(\"Inflection\"),\n",
    "            token.tag_,\n",
    "            token.dep_,\n",
    "            token.head.i,\n",
    "        )"
   ]
  },
  {
   "cell_type": "code",
   "execution_count": null,
   "metadata": {},
   "outputs": [],
   "source": []
  }
 ],
 "metadata": {
  "interpreter": {
   "hash": "7e396e0f1d014e6d4688c34e25a2be33cc89bd41abd4bd6fd915d760d011226e"
  },
  "kernelspec": {
   "display_name": "Python 3.8.10 ('.venv': venv)",
   "language": "python",
   "name": "python3"
  },
  "language_info": {
   "codemirror_mode": {
    "name": "ipython",
    "version": 3
   },
   "file_extension": ".py",
   "mimetype": "text/x-python",
   "name": "python",
   "nbconvert_exporter": "python",
   "pygments_lexer": "ipython3",
   "version": "3.8.10"
  },
  "orig_nbformat": 4
 },
 "nbformat": 4,
 "nbformat_minor": 2
}
