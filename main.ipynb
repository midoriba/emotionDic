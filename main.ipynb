{
 "cells": [
  {
   "cell_type": "markdown",
   "metadata": {},
   "source": []
  },
  {
   "cell_type": "code",
   "execution_count": 3,
   "metadata": {},
   "outputs": [],
   "source": [
    "import corpus\n",
    "import os"
   ]
  },
  {
   "cell_type": "code",
   "execution_count": 2,
   "metadata": {},
   "outputs": [],
   "source": [
    "import CaboCha\n",
    "import matplotlib as mpl\n",
    "import matplotlib.pyplot as plt\n",
    "import json\n",
    "from time import sleep"
   ]
  },
  {
   "cell_type": "code",
   "execution_count": 62,
   "metadata": {},
   "outputs": [
    {
     "name": "stdout",
     "output_type": "stream",
     "text": [
      "* 0 1D 0/0 0.821629\n",
      "そう\t副詞,助詞類接続,*,*,*,*,そう,ソウ,ソー\n",
      "* 1 2D 0/2 2.897897\n",
      "言わ\t動詞,自立,*,*,五段・ワ行促音便,未然形,言う,イワ,イワ\n",
      "れる\t動詞,接尾,*,*,一段,基本形,れる,レル,レル\n",
      "と\t助詞,格助詞,引用,*,*,*,と,ト,ト\n",
      "* 2 5D 1/2 -1.192231\n",
      "緊張\t名詞,サ変接続,*,*,*,*,緊張,キンチョウ,キンチョー\n",
      "する\t動詞,自立,*,*,サ変・スル,基本形,する,スル,スル\n",
      "なあ\t助詞,終助詞,*,*,*,*,なあ,ナア,ナー\n",
      "。\t記号,句点,*,*,*,*,。,。,。\n",
      "* 3 5D 0/0 -1.192231\n",
      "じゃあ\t接続詞,*,*,*,*,*,じゃあ,ジャア,ジャー\n",
      "* 4 5D 0/0 -1.192231\n",
      "こう\t副詞,助詞類接続,*,*,*,*,こう,コウ,コー\n",
      "* 5 -1D 0/1 0.000000\n",
      "しよ\t動詞,自立,*,*,サ変・スル,未然ウ接続,する,シヨ,シヨ\n",
      "う\t助動詞,*,*,*,不変化型,基本形,う,ウ,ウ\n",
      "。\t記号,句点,*,*,*,*,。,。,。\n",
      "EOS\n",
      "\n"
     ]
    }
   ],
   "source": [
    "c = CaboCha.Parser()\n",
    "tree = c.parse('そう言われると緊張するなあ。じゃあこうしよう。')\n",
    "print(tree.toString(CaboCha.FORMAT_LATTICE))"
   ]
  },
  {
   "cell_type": "code",
   "execution_count": 4,
   "metadata": {},
   "outputs": [],
   "source": [
    "def bunsetsu_list(tree):\n",
    "    result = []\n",
    "    chunkindex = 0\n",
    "    for i in range(tree.size()):\n",
    "        token = tree.token(i)\n",
    "        if(token.chunk is not None):\n",
    "            features = token.feature.split(',')\n",
    "            result.append({'lemma':features[-3], 'link':token.chunk.link, 'index':chunkindex})\n",
    "            chunkindex += 1\n",
    "    return result\n",
    "\n",
    "def search_candidate(known_word_index, blist):\n",
    "    result = set()\n",
    "    for b in blist:\n",
    "        if((b['link'] == known_word_index) or (b['index'] == blist[known_word_index]['link'])):\n",
    "            result.add(b['index'])\n",
    "    return sorted(list(result))"
   ]
  },
  {
   "cell_type": "code",
   "execution_count": 5,
   "metadata": {},
   "outputs": [],
   "source": [
    "cp = corpus.Corpus(os.path.join('moddata','nucc','data001.txt'))"
   ]
  },
  {
   "cell_type": "code",
   "execution_count": 6,
   "metadata": {},
   "outputs": [],
   "source": [
    "dic = dict()"
   ]
  },
  {
   "cell_type": "code",
   "execution_count": null,
   "metadata": {},
   "outputs": [],
   "source": []
  },
  {
   "cell_type": "code",
   "execution_count": 5,
   "metadata": {},
   "outputs": [],
   "source": [
    "import math\n",
    "\n",
    "def argtoxy(arg, r=1.):\n",
    "    ret = [\n",
    "        r * math.cos(arg * math.pi / 180),\n",
    "        r * math.sin(arg * math.pi / 180)\n",
    "    ]   \n",
    "    return ret \n",
    "\n",
    "def xytoarg(x, y):\n",
    "    ret = [\n",
    "        math.sqrt(x*x + y*y),\n",
    "        180 * math.atan2(y, x)/ math.pi\n",
    "    ]\n",
    "    return ret"
   ]
  },
  {
   "cell_type": "code",
   "execution_count": 8,
   "metadata": {},
   "outputs": [
    {
     "name": "stdout",
     "output_type": "stream",
     "text": [
      "[1.9982242116439286, 59.97059823848534]\n"
     ]
    }
   ],
   "source": [
    "print(xytoarg(1,1.73))"
   ]
  },
  {
   "cell_type": "code",
   "execution_count": 9,
   "metadata": {},
   "outputs": [],
   "source": [
    "dic = dict()\n",
    "with open(os.path.join('seeds', 'emot.txt')) as f:\n",
    "    for w in f.readlines():\n",
    "        sw, arg = w.split()\n",
    "        dic[sw] = corpus.WordDicElement(sw)\n",
    "        x, y = argtoxy(int(arg))\n",
    "        dic[sw].set_value(x, y)"
   ]
  },
  {
   "cell_type": "code",
   "execution_count": 10,
   "metadata": {},
   "outputs": [
    {
     "name": "stdout",
     "output_type": "stream",
     "text": [
      "{lemma:驚く,r:1.0,position:[6.123233995736766e-17, 1.0],score:[],accesscount:0}\n",
      "{lemma:びっくり,r:1.0,position:[6.123233995736766e-17, 1.0],score:[],accesscount:0}\n",
      "{lemma:注意,r:1.0,position:[0.3420201433256688, 0.9396926207859083],score:[],accesscount:0}\n",
      "{lemma:興奮,r:1.0,position:[0.6427876096865394, 0.766044443118978],score:[],accesscount:0}\n",
      "{lemma:わくわく,r:1.0,position:[0.6427876096865394, 0.766044443118978],score:[],accesscount:0}\n",
      "{lemma:元気,r:1.0,position:[0.8660254037844387, 0.49999999999999994],score:[],accesscount:0}\n",
      "{lemma:嬉しい,r:1.0,position:[0.9396926207859084, 0.3420201433256687],score:[],accesscount:0}\n",
      "{lemma:幸せ,r:1.0,position:[0.984807753012208, 0.17364817766693033],score:[],accesscount:0}\n",
      "{lemma:満足,r:1.0,position:[0.984807753012208, -0.17364817766693033],score:[],accesscount:0}\n",
      "{lemma:落ち着く,r:1.0,position:[0.3420201433256688, -0.9396926207859083],score:[],accesscount:0}\n",
      "{lemma:眠い,r:1.0,position:[6.123233995736766e-17, -1.0],score:[],accesscount:0}\n",
      "{lemma:疲れる,r:1.0,position:[-0.1736481776669303, -0.984807753012208],score:[],accesscount:0}\n",
      "{lemma:だるい,r:1.0,position:[-0.4999999999999998, -0.8660254037844388],score:[],accesscount:0}\n",
      "{lemma:憂鬱,r:1.0,position:[-0.7660444431189779, -0.6427876096865395],score:[],accesscount:0}\n",
      "{lemma:悲しい,r:1.0,position:[-0.9396926207859083, -0.3420201433256689],score:[],accesscount:0}\n",
      "{lemma:辛い,r:1.0,position:[-0.9396926207859083, -0.3420201433256689],score:[],accesscount:0}\n",
      "{lemma:嫌,r:1.0,position:[-1.0, 1.2246467991473532e-16],score:[],accesscount:0}\n",
      "{lemma:心配,r:1.0,position:[-0.9396926207859083, 0.3420201433256689],score:[],accesscount:0}\n",
      "{lemma:重圧,r:1.0,position:[-0.7660444431189779, 0.6427876096865395],score:[],accesscount:0}\n",
      "{lemma:神経質,r:1.0,position:[-0.4999999999999998, 0.8660254037844388],score:[],accesscount:0}\n",
      "{lemma:怖い,r:1.0,position:[-0.3420201433256687, 0.9396926207859084],score:[],accesscount:0}\n",
      "{lemma:緊張,r:1.0,position:[-0.1736481776669303, 0.984807753012208],score:[],accesscount:0}\n"
     ]
    }
   ],
   "source": [
    "for i in dic.keys():\n",
    "    print(str(dic[i]))"
   ]
  },
  {
   "cell_type": "code",
   "execution_count": 11,
   "metadata": {},
   "outputs": [
    {
     "data": {
      "text/plain": [
       "{'驚く': <corpus.WordDicElement at 0x105b20370>,\n",
       " 'びっくり': <corpus.WordDicElement at 0x105e1c160>,\n",
       " '注意': <corpus.WordDicElement at 0x105e1ca00>,\n",
       " '興奮': <corpus.WordDicElement at 0x105f168b0>,\n",
       " 'わくわく': <corpus.WordDicElement at 0x105f16e80>,\n",
       " '元気': <corpus.WordDicElement at 0x105f16910>,\n",
       " '嬉しい': <corpus.WordDicElement at 0x105f16f70>,\n",
       " '幸せ': <corpus.WordDicElement at 0x105f16be0>,\n",
       " '満足': <corpus.WordDicElement at 0x105f16310>,\n",
       " '落ち着く': <corpus.WordDicElement at 0x105f16850>,\n",
       " '眠い': <corpus.WordDicElement at 0x105f169a0>,\n",
       " '疲れる': <corpus.WordDicElement at 0x106ab5ca0>,\n",
       " 'だるい': <corpus.WordDicElement at 0x106ab5f40>,\n",
       " '憂鬱': <corpus.WordDicElement at 0x106ab5b50>,\n",
       " '悲しい': <corpus.WordDicElement at 0x106ab5d30>,\n",
       " '辛い': <corpus.WordDicElement at 0x106ab5e80>,\n",
       " '嫌': <corpus.WordDicElement at 0x106ab5c40>,\n",
       " '心配': <corpus.WordDicElement at 0x106ab5b80>,\n",
       " '重圧': <corpus.WordDicElement at 0x106ab59d0>,\n",
       " '神経質': <corpus.WordDicElement at 0x106ab5cd0>,\n",
       " '怖い': <corpus.WordDicElement at 0x106ab5ee0>,\n",
       " '緊張': <corpus.WordDicElement at 0x106ab5c70>}"
      ]
     },
     "execution_count": 11,
     "metadata": {},
     "output_type": "execute_result"
    }
   ],
   "source": [
    "dic"
   ]
  },
  {
   "cell_type": "code",
   "execution_count": 12,
   "metadata": {},
   "outputs": [],
   "source": [
    "def calc_score(cp, argdic):\n",
    "    dic = argdic.copy()\n",
    "    linecount = 0\n",
    "    for line in cp.conversation:\n",
    "        kk = []\n",
    "        #print(linecount, line)\n",
    "        linecount += 1\n",
    "        for bindex, b in enumerate(line.bunsetsu_index_list):\n",
    "            bunsetsu_head = line.sentence_word_list[b]\n",
    "            try:\n",
    "                dic[bunsetsu_head.lemma].accesscount += 1\n",
    "                #print(dic[bunsetsu_head.lemma].isactive)\n",
    "                if(dic[bunsetsu_head.lemma].isactive and not dic[bunsetsu_head.lemma].isdeleted):\n",
    "                    candidates = [line.bunsetsu_index_list[i] for i in line.search_candidate(bindex)]\n",
    "                    for candidate_index in candidates:\n",
    "                        candidate = line.sentence_word_list[candidate_index]\n",
    "                        kk.append([bunsetsu_head.lemma, candidate.lemma])\n",
    "                        try:\n",
    "                            dic[candidate.lemma].add_score(corpus.extract(bunsetsu_head, candidate, dic))\n",
    "                        except KeyError:\n",
    "                            newword = corpus.WordDicElement(candidate.lemma)\n",
    "                            newword.add_score(corpus.extract(bunsetsu_head, candidate, dic))\n",
    "                            dic[candidate.lemma] = newword\n",
    "            except KeyError:\n",
    "                continue\n",
    "        if(len(kk) > 0):\n",
    "            with open('kkout.txt', encoding='utf-8', mode='a') as f:\n",
    "                f.write(f\"[{line.text}]\\n\")\n",
    "                f.write('\\n'.join([f'{i[0]}->{i[1]}' for i in kk])+'\\n')\n",
    "    return dic\n",
    "\n",
    "def calc_value(argdic: dict[corpus.WordDicElement], learntime: int, alpha: float=0.5, ):\n",
    "    dic = argdic.copy()\n",
    "    for key in dic.keys():\n",
    "        elem = dic[key]\n",
    "        if(elem.accesscount > learntime*1000):\n",
    "            pass\n",
    "        elif(len(elem.score) < 1):\n",
    "            continue\n",
    "        elif(elem.isdeleted):\n",
    "            continue\n",
    "        elif(elem.isactive):\n",
    "            xscore = [i[0] for i in elem.score]\n",
    "            yscore = [i[1] for i in elem.score]\n",
    "            newxvalue = sum(xscore)/len(elem.score) * alpha + elem.value_x * (1-alpha)\n",
    "            newyvalue = sum(yscore)/len(elem.score) * alpha + elem.value_y * (1-alpha)\n",
    "            dic[key].set_value(newxvalue, newyvalue)\n",
    "        else:\n",
    "            xscore = [i[0] for i in elem.score]\n",
    "            yscore = [i[1] for i in elem.score]\n",
    "            newxvalue = sum(xscore)/len(elem.score)\n",
    "            newyvalue = sum(yscore)/len(elem.score)\n",
    "            dic[key].set_value(newxvalue, newyvalue)\n",
    "        dic[key].reset_score()\n",
    "            \n",
    "    return dic"
   ]
  },
  {
   "cell_type": "code",
   "execution_count": 13,
   "metadata": {},
   "outputs": [],
   "source": [
    "learntime = 0"
   ]
  },
  {
   "cell_type": "code",
   "execution_count": 67,
   "metadata": {},
   "outputs": [
    {
     "name": "stdout",
     "output_type": "stream",
     "text": [
      "2 1\n",
      "2 2\n",
      "2 3\n",
      "2 4\n",
      "2 5\n",
      "2 6\n",
      "2 7\n",
      "2 8\n",
      "2 9\n",
      "2 10\n",
      "2 11\n",
      "2 12\n",
      "2 13\n",
      "2 14\n",
      "2 15\n",
      "2 16\n",
      "2 17\n",
      "2 18\n",
      "2 19\n",
      "2 20\n",
      "2 21\n",
      "2 22\n",
      "2 23\n",
      "2 24\n",
      "2 25\n",
      "2 26\n",
      "2 27\n",
      "2 28\n",
      "2 29\n",
      "2 30\n",
      "2 31\n",
      "2 32\n",
      "2 33\n",
      "2 34\n",
      "2 35\n",
      "2 36\n",
      "2 37\n",
      "2 38\n",
      "2 39\n",
      "2 40\n",
      "2 41\n",
      "2 42\n",
      "2 43\n",
      "2 44\n",
      "2 45\n",
      "2 46\n",
      "2 47\n",
      "2 48\n",
      "2 49\n",
      "2 50\n",
      "2 51\n",
      "2 52\n",
      "2 53\n",
      "2 54\n",
      "2 55\n",
      "2 56\n",
      "2 57\n",
      "2 58\n",
      "2 59\n",
      "2 60\n",
      "2 61\n",
      "2 62\n",
      "2 63\n",
      "2 64\n",
      "2 65\n",
      "2 66\n",
      "2 67\n",
      "2 68\n",
      "2 69\n",
      "2 70\n",
      "2 71\n",
      "2 72\n",
      "2 73\n",
      "2 74\n",
      "2 75\n",
      "2 76\n",
      "2 77\n",
      "2 78\n",
      "2 79\n",
      "2 80\n",
      "2 81\n",
      "2 82\n",
      "2 83\n",
      "2 84\n",
      "2 85\n",
      "2 86\n",
      "2 87\n",
      "2 88\n",
      "2 89\n",
      "2 90\n",
      "2 91\n",
      "2 92\n",
      "2 93\n",
      "2 94\n",
      "2 95\n",
      "2 96\n",
      "2 97\n",
      "2 98\n",
      "2 99\n",
      "2 100\n",
      "2 101\n",
      "2 102\n",
      "2 103\n",
      "2 104\n",
      "2 105\n",
      "2 106\n",
      "2 107\n",
      "2 108\n",
      "2 109\n",
      "2 110\n",
      "2 111\n",
      "2 112\n",
      "2 113\n",
      "2 114\n",
      "2 115\n",
      "2 116\n",
      "2 117\n",
      "2 118\n",
      "2 119\n",
      "2 120\n",
      "2 121\n",
      "2 122\n",
      "2 123\n",
      "2 124\n",
      "2 125\n",
      "2 126\n",
      "2 127\n",
      "2 128\n",
      "2 129\n"
     ]
    }
   ],
   "source": [
    "learntime += 1\n",
    "filecount = 0\n",
    "for file in sorted(os.listdir(os.path.join('moddata','nucc')))[:]:    \n",
    "    filecount += 1\n",
    "    print(learntime, filecount)\n",
    "    cp = corpus.Corpus(os.path.join('moddata','nucc',file))\n",
    "    dic = calc_score(cp, dic)\n",
    "dic = calc_value(dic, learntime)\n",
    "\n",
    "output = []\n",
    "for i in dic.keys():\n",
    "    if(-0.6 < xytoarg(dic[i].value_x, dic[i].value_y)[0] < 0.6 or dic[i].accesscount > 1000 * learntime):\n",
    "        dic[i].set_value(0., 0.)\n",
    "        dic[i].delete()\n",
    "    else:\n",
    "        output.append(str(dic[i]))\n",
    "with open(f'emodict/output1_{learntime}.txt', mode='w') as f:\n",
    "    f.write('\\n'.join(sorted(output, key=lambda x: int(x.split(':')[-1].replace('}','')), reverse=True)))"
   ]
  },
  {
   "cell_type": "code",
   "execution_count": null,
   "metadata": {},
   "outputs": [],
   "source": [
    "count = 0"
   ]
  },
  {
   "cell_type": "code",
   "execution_count": 74,
   "metadata": {},
   "outputs": [
    {
     "data": {
      "image/png": "[encoded data removed]",
      "text/plain": [
       "<Figure size 504x504 with 1 Axes>"
      ]
     },
     "metadata": {},
     "output_type": "display_data"
    }
   ],
   "source": [
    "\n",
    "\n",
    "plt.rcParams['font.family'] = 'Hiragino Sans'\n",
    "fig = plt.figure(figsize=(7,7), dpi=72)\n",
    "ax = fig.add_subplot(111)\n",
    "x = []\n",
    "y = []\n",
    "spx = []\n",
    "spy = []\n",
    "with open('emodict/output1_1.txt') as f:\n",
    "    fl = [json.loads(i) for i in f.readlines()]\n",
    "    for i, d in enumerate(fl):\n",
    "        if(i != count):\n",
    "            x.append(d['position'][0])\n",
    "            y.append(d['position'][1])\n",
    "        else:\n",
    "            spx.append(d['position'][0])\n",
    "            spy.append(d['position'][1])\n",
    "    lemma = fl[count]['lemma']\n",
    "    fig.text(0.5, 0.2, f'{count}, {lemma}', c='red', fontsize=15)\n",
    "    ax.scatter(x, y)\n",
    "    ax.scatter(spx, spy, c='red')\n",
    "count += 1"
   ]
  },
  {
   "cell_type": "code",
   "execution_count": 55,
   "metadata": {},
   "outputs": [
    {
     "name": "stderr",
     "output_type": "stream",
     "text": [
      "/var/folders/pf/qj02gyvd6m71pmrhvt3k4f_80000gn/T/ipykernel_38704/1012639918.py:4: UserWarning: Matplotlib is currently using module://matplotlib_inline.backend_inline, which is a non-GUI backend, so cannot show the figure.\n",
      "  fig.show()\n"
     ]
    }
   ],
   "source": [
    "wordelem = fl[count]\n",
    "fig.text(0.5, 0.2, wordelem['lemma'], c='red')\n",
    "ax.scatter(wordelem['position'][0], wordelem['position'][1])\n",
    "fig.show()\n"
   ]
  },
  {
   "cell_type": "code",
   "execution_count": 39,
   "metadata": {},
   "outputs": [
    {
     "name": "stdout",
     "output_type": "stream",
     "text": [
      "['.Aqua Kana', '.Keyboard', '.New York', '.SF Arabic', '.SF Compact', '.SF Compact Rounded', '.SF NS Mono', '.SF NS Rounded', 'Academy Engraved LET', 'Al Bayan', 'Al Nile', 'Al Tarikh', 'American Typewriter', 'Andale Mono', 'Apple Braille', 'Apple Chancery', 'Apple SD Gothic Neo', 'Apple Symbols', 'AppleGothic', 'AppleMyungjo', 'Arial', 'Arial Black', 'Arial Hebrew', 'Arial Narrow', 'Arial Rounded MT Bold', 'Arial Unicode MS', 'Athelas', 'Avenir', 'Avenir Next', 'Avenir Next Condensed', 'Ayuthaya', 'Baghdad', 'Bangla MN', 'Bangla Sangam MN', 'Baskerville', 'Beirut', 'Big Caslon', 'Bodoni 72', 'Bodoni 72 Oldstyle', 'Bodoni 72 Smallcaps', 'Bodoni Ornaments', 'Bradley Hand', 'Brush Script MT', 'Chalkboard', 'Chalkboard SE', 'Chalkduster', 'Charter', 'Cochin', 'Comic Sans MS', 'Copperplate', 'Corsiva Hebrew', 'Courier', 'Courier New', 'DIN Alternate', 'DIN Condensed', 'Damascus', 'DecoType Naskh', 'DejaVu Sans', 'DejaVu Sans Display', 'DejaVu Sans Mono', 'DejaVu Serif', 'DejaVu Serif Display', 'Devanagari MT', 'Devanagari Sangam MN', 'Didot', 'Diwan Kufi', 'Diwan Thuluth', 'Euphemia UCAS', 'Farah', 'Farisi', 'Futura', 'Galvji', 'Geeza Pro', 'Geneva', 'Georgia', 'Gill Sans', 'Gujarati MT', 'Gujarati Sangam MN', 'Gurmukhi MN', 'Gurmukhi MT', 'Gurmukhi Sangam MN', 'Heiti TC', 'Helvetica', 'Helvetica Neue', 'Herculanum', 'Hiragino Maru Gothic Pro', 'Hiragino Mincho ProN', 'Hiragino Sans', 'Hiragino Sans GB', 'Hoefler Text', 'ITF Devanagari', 'Impact', 'InaiMathi', 'Iowan Old Style', 'Kailasa', 'Kannada MN', 'Kannada Sangam MN', 'Kefa', 'Khmer MN', 'Khmer Sangam MN', 'Kohinoor Bangla', 'Kohinoor Devanagari', 'Kohinoor Gujarati', 'Kohinoor Telugu', 'Kokonor', 'Krungthep', 'KufiStandardGK', 'Lao MN', 'Lao Sangam MN', 'Lucida Grande', 'Luminari', 'Malayalam MN', 'Malayalam Sangam MN', 'Marion', 'Marker Felt', 'Menlo', 'Microsoft Sans Serif', 'Mishafi', 'Mishafi Gold', 'Monaco', 'Mshtakan', 'Mukta Mahee', 'Muna', 'Myanmar MN', 'Myanmar Sangam MN', 'Nadeem', 'New Peninim MT', 'Noteworthy', 'Noto Nastaliq Urdu', 'Noto Sans Adlam', 'Noto Sans Armenian', 'Noto Sans Avestan', 'Noto Sans Bamum', 'Noto Sans Bassa Vah', 'Noto Sans Batak', 'Noto Sans Bhaiksuki', 'Noto Sans Brahmi', 'Noto Sans Buginese', 'Noto Sans Buhid', 'Noto Sans Carian', 'Noto Sans Caucasian Albanian', 'Noto Sans Chakma', 'Noto Sans Cham', 'Noto Sans Coptic', 'Noto Sans Cuneiform', 'Noto Sans Cypriot', 'Noto Sans Duployan', 'Noto Sans Egyptian Hieroglyphs', 'Noto Sans Elbasan', 'Noto Sans Glagolitic', 'Noto Sans Gothic', 'Noto Sans Gunjala Gondi', 'Noto Sans Hanifi Rohingya', 'Noto Sans Hanunoo', 'Noto Sans Hatran', 'Noto Sans Imperial Aramaic', 'Noto Sans Inscriptional Pahlavi', 'Noto Sans Inscriptional Parthian', 'Noto Sans Javanese', 'Noto Sans Kaithi', 'Noto Sans Kannada', 'Noto Sans Kayah Li', 'Noto Sans Kharoshthi', 'Noto Sans Khojki', 'Noto Sans Khudawadi', 'Noto Sans Lepcha', 'Noto Sans Limbu', 'Noto Sans Linear A', 'Noto Sans Linear B', 'Noto Sans Lisu', 'Noto Sans Lycian', 'Noto Sans Lydian', 'Noto Sans Mahajani', 'Noto Sans Mandaic', 'Noto Sans Manichaean', 'Noto Sans Marchen', 'Noto Sans Masaram Gondi', 'Noto Sans Meetei Mayek', 'Noto Sans Mende Kikakui', 'Noto Sans Meroitic', 'Noto Sans Miao', 'Noto Sans Modi', 'Noto Sans Mongolian', 'Noto Sans Mro', 'Noto Sans Multani', 'Noto Sans Myanmar', 'Noto Sans NKo', 'Noto Sans Nabataean', 'Noto Sans New Tai Lue', 'Noto Sans Newa', 'Noto Sans Ol Chiki', 'Noto Sans Old Hungarian', 'Noto Sans Old Italic', 'Noto Sans Old North Arabian', 'Noto Sans Old Permic', 'Noto Sans Old Persian', 'Noto Sans Old South Arabian', 'Noto Sans Old Turkic', 'Noto Sans Oriya', 'Noto Sans Osage', 'Noto Sans Osmanya', 'Noto Sans Pahawh Hmong', 'Noto Sans Palmyrene', 'Noto Sans Pau Cin Hau', 'Noto Sans PhagsPa', 'Noto Sans Phoenician', 'Noto Sans Psalter Pahlavi', 'Noto Sans Rejang', 'Noto Sans Samaritan', 'Noto Sans Saurashtra', 'Noto Sans Sharada', 'Noto Sans Siddham', 'Noto Sans Sora Sompeng', 'Noto Sans Sundanese', 'Noto Sans Syloti Nagri', 'Noto Sans Syriac', 'Noto Sans Tagalog', 'Noto Sans Tagbanwa', 'Noto Sans Tai Le', 'Noto Sans Tai Tham', 'Noto Sans Tai Viet', 'Noto Sans Takri', 'Noto Sans Thaana', 'Noto Sans Tifinagh', 'Noto Sans Tirhuta', 'Noto Sans Ugaritic', 'Noto Sans Vai', 'Noto Sans Wancho', 'Noto Sans Warang Citi', 'Noto Sans Yi', 'Noto Serif Ahom', 'Noto Serif Balinese', 'Noto Serif Myanmar', 'Noto Serif Yezidi', 'Optima', 'Oriya MN', 'Oriya Sangam MN', 'PT Mono', 'PT Sans', 'PT Serif', 'PT Serif Caption', 'Palatino', 'Papyrus', 'Party LET', 'Phosphate', 'PingFang HK', 'Plantagenet Cherokee', 'Raanana', 'Rockwell', 'STIXGeneral', 'STIXIntegralsD', 'STIXIntegralsSm', 'STIXIntegralsUp', 'STIXIntegralsUpD', 'STIXIntegralsUpSm', 'STIXNonUnicode', 'STIXSizeFiveSym', 'STIXSizeFourSym', 'STIXSizeOneSym', 'STIXSizeThreeSym', 'STIXSizeTwoSym', 'STIXVariants', 'Sana', 'Sathu', 'Savoye LET', 'Seravek', 'Shree Devanagari 714', 'SignPainter', 'Silom', 'Sinhala MN', 'Sinhala Sangam MN', 'Skia', 'Snell Roundhand', 'Songti SC', 'Sukhumvit Set', 'Superclarendon', 'Symbol', 'System Font', 'Tahoma', 'Tamil MN', 'Tamil Sangam MN', 'Telugu MN', 'Telugu Sangam MN', 'Thonburi', 'Times', 'Times New Roman', 'Trattatello', 'Trebuchet MS', 'Verdana', 'Waseem', 'Webdings', 'Wingdings', 'Wingdings 2', 'Wingdings 3', 'Zapf Dingbats', 'Zapfino', 'cmb10', 'cmex10', 'cmmi10', 'cmr10', 'cmss10', 'cmsy10', 'cmtt10']\n"
     ]
    }
   ],
   "source": [
    "fonts = set([f.name for f in mpl.font_manager.fontManager.ttflist])\n",
    "print(sorted(fonts))"
   ]
  },
  {
   "cell_type": "code",
   "execution_count": 72,
   "metadata": {},
   "outputs": [],
   "source": [
    "learntime\n",
    "count2 = 0"
   ]
  },
  {
   "cell_type": "code",
   "execution_count": 81,
   "metadata": {},
   "outputs": [
    {
     "data": {
      "image/png": "[encoded data removed]",
      "text/plain": [
       "<Figure size 504x504 with 1 Axes>"
      ]
     },
     "metadata": {},
     "output_type": "display_data"
    }
   ],
   "source": [
    "plt.rcParams['font.family'] = 'Hiragino Sans'\n",
    "fig2 = plt.figure(figsize=(7,7), dpi=72)\n",
    "ax2 = fig2.add_subplot(111)\n",
    "x2 = []\n",
    "y2 = []\n",
    "spx2 = []\n",
    "spy2 = []\n",
    "with open('emodict/output1_2.txt') as f:\n",
    "    fl = [json.loads(i) for i in f.readlines()]\n",
    "    for i, d in enumerate(fl):\n",
    "        if(i != count):\n",
    "            x2.append(d['position'][0])\n",
    "            y2.append(d['position'][1])\n",
    "        else:\n",
    "            spx2.append(d['position'][0])\n",
    "            spy2.append(d['position'][1])\n",
    "    lemma = fl[count2]['lemma']\n",
    "    fig2.text(0.5, 0.2, f'{count2}, {lemma}', c='red', fontsize=15)\n",
    "    ax2.scatter(x2, y2)\n",
    "    ax2.scatter(spx2, spy2, c='red')\n",
    "count2 += 1"
   ]
  },
  {
   "cell_type": "code",
   "execution_count": 8,
   "metadata": {},
   "outputs": [],
   "source": [
    "with open('emodict/output1_2.txt') as f:\n",
    "    fl = [json.loads(i) for i in f.readlines()]\n",
    "emodic2 = dict()\n",
    "for i in fl:\n",
    "    emodic2[i['lemma']] = i['position']"
   ]
  },
  {
   "cell_type": "code",
   "execution_count": 22,
   "metadata": {},
   "outputs": [
    {
     "data": {
      "text/plain": [
       "<matplotlib.collections.PathCollection at 0x113f00730>"
      ]
     },
     "execution_count": 22,
     "metadata": {},
     "output_type": "execute_result"
    },
    {
     "data": {
      "image/png": "[encoded data removed]",
      "text/plain": [
       "<Figure size 504x504 with 1 Axes>"
      ]
     },
     "metadata": {},
     "output_type": "display_data"
    }
   ],
   "source": [
    "plt.rcParams['font.family'] = 'Hiragino Sans'\n",
    "fig3 = plt.figure(figsize=(7,7), dpi=72)\n",
    "ax3 = fig3.add_subplot(111)\n",
    "x3 = []\n",
    "y3 = []\n",
    "tag3 = []\n",
    "spx3 = []\n",
    "spy3 = []\n",
    "spword3 = '腹痛'\n",
    "with open('seeds/emot.txt') as f:\n",
    "    fl = f.readlines()\n",
    "    for i in fl:\n",
    "        lemma, arg = i.split()\n",
    "        xp, yp = argtoxy(int(arg))\n",
    "        x3.append(xp)\n",
    "        y3.append(yp)\n",
    "        tag3.append(lemma)\n",
    "        ax3.text(xp+0.05, yp, lemma, fontsize=15)\n",
    "\n",
    "ax3.scatter(x3, y3)\n",
    "spx3.append(emodic2[spword3][0])\n",
    "spy3.append(emodic2[spword3][1])\n",
    "ax3.text(spx3[0]+0.05, spy3[0], spword3, fontsize=15, c='red')\n",
    "ax3.scatter(spx3, spy3, c='red')"
   ]
  },
  {
   "cell_type": "code",
   "execution_count": 88,
   "metadata": {},
   "outputs": [
    {
     "data": {
      "text/plain": [
       "22"
      ]
     },
     "execution_count": 88,
     "metadata": {},
     "output_type": "execute_result"
    }
   ],
   "source": [
    "len(x3)\n",
    "len(tag3)"
   ]
  },
  {
   "cell_type": "code",
   "execution_count": null,
   "metadata": {},
   "outputs": [],
   "source": []
  }
 ],
 "metadata": {
  "interpreter": {
   "hash": "7a0fd0f0d99e5d6864c7c7afe1c6989aa5d650cea056a3048f58a96658917535"
  },
  "kernelspec": {
   "display_name": "Python 3.9.6 ('.venv': venv)",
   "language": "python",
   "name": "python3"
  },
  "language_info": {
   "codemirror_mode": {
    "name": "ipython",
    "version": 3
   },
   "file_extension": ".py",
   "mimetype": "text/x-python",
   "name": "python",
   "nbconvert_exporter": "python",
   "pygments_lexer": "ipython3",
   "version": "3.9.6"
  },
  "orig_nbformat": 4
 },
 "nbformat": 4,
 "nbformat_minor": 2
}
