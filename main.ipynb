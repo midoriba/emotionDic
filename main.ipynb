{
 "cells": [
  {
   "cell_type": "markdown",
   "metadata": {},
   "source": []
  },
  {
   "cell_type": "code",
   "execution_count": 1,
   "metadata": {},
   "outputs": [],
   "source": [
    "import spacy\n",
    "from ginza import *\n",
    "import corpus\n",
    "import os"
   ]
  },
  {
   "cell_type": "code",
   "execution_count": 2,
   "metadata": {},
   "outputs": [
    {
     "data": {
      "text/plain": [
       "spacy.lang.ja.Japanese"
      ]
     },
     "execution_count": 2,
     "metadata": {},
     "output_type": "execute_result"
    }
   ],
   "source": [
    "nlp = spacy.load('ja_ginza')\n",
    "type(nlp)"
   ]
  },
  {
   "cell_type": "code",
   "execution_count": 27,
   "metadata": {},
   "outputs": [
    {
     "name": "stdout",
     "output_type": "stream",
     "text": [
      "0 メロンパン メロンパン メロンパン ['メロンパン'] PROPN [] 名詞-普通名詞-一般 obl 4 2828855326191692016\n",
      "1 に に に ['ニ'] ADP [] 助詞-格助詞 case 0 9559806972112097637\n",
      "2 メロン メロン メロン ['メロン'] NOUN [] 名詞-普通名詞-一般 nsubj 4 14794725600052603870\n",
      "3 は は は ['ハ'] ADP [] 助詞-係助詞 case 2 16159406377086191121\n",
      "4 入っ 入る 入る ['ハイッ'] VERB ['五段-ラ行;連用形-促音便'] 動詞-一般 ROOT 4 3825154392790238919\n",
      "5 て てる てる ['テ'] AUX ['下一段-タ行;未然形-一般'] 助動詞 aux 4 4044592081468128983\n",
      "6 ない ない ない ['ナイ'] AUX ['助動詞-ナイ;終止形-一般'] 助動詞 aux 4 1006397123117692312\n",
      "7 よ よ よ ['ヨ'] PART [] 助詞-終助詞 mark 4 62145933630954701\n",
      "8 。 。 。 ['。'] PUNCT [] 補助記号-句点 punct 4 13183560425307684641\n",
      "EOS\n",
      "9 メロン メロン メロン ['メロン'] NOUN [] 名詞-普通名詞-一般 nmod 11 14794725600052603870\n",
      "10 の の の ['ノ'] ADP [] 助詞-格助詞 case 9 2917952641780334418\n",
      "11 香り 香り 香り ['カオリ'] NOUN [] 名詞-普通名詞-一般 nsubj 13 17759557579444759237\n",
      "12 は は は ['ハ'] ADP [] 助詞-係助詞 case 11 16159406377086191121\n",
      "13 つい つく 付く ['ツイ'] VERB ['五段-カ行;連用形-イ音便'] 動詞-非自立可能 advcl 21 17593882164978163850\n",
      "14 て て て ['テ'] SCONJ [] 助詞-接続助詞 mark 13 17929645466003512548\n",
      "15 いる いる 居る ['イル'] VERB ['上一段-ア行;終止形-一般'] 動詞-非自立可能 fixed 14 2436706052050447799\n",
      "16 けど けど けれど ['ケド'] SCONJ [] 助詞-接続助詞 mark 13 9852651429931587287\n",
      "17 、 、 、 ['、'] PUNCT [] 補助記号-読点 punct 13 202075578247595036\n",
      "18 その その 其の ['ソノ'] DET [] 連体詞 det 19 16840401655973989872\n",
      "19 もの もの 物 ['モノ'] NOUN [] 名詞-普通名詞-サ変可能 nsubj 21 17256008187793773803\n",
      "20 は は は ['ハ'] ADP [] 助詞-係助詞 case 19 16159406377086191121\n",
      "21 入っ 入る 入る ['ハイッ'] VERB ['五段-ラ行;連用形-促音便'] 動詞-一般 ROOT 21 3825154392790238919\n",
      "22 て てる てる ['テ'] AUX ['下一段-タ行;未然形-一般'] 助動詞 aux 21 4044592081468128983\n",
      "23 ない ない ない ['ナイ'] AUX ['助動詞-ナイ;終止形-一般'] 助動詞 aux 21 1006397123117692312\n",
      "24 。 。 。 ['。'] PUNCT [] 補助記号-句点 punct 21 13183560425307684641\n",
      "EOS\n"
     ]
    }
   ],
   "source": [
    "doc = nlp('メロンパンにメロンは入ってないよ。メロンの香りはついているけど、そのものは入ってない。')\n",
    "for sent in doc.sents:\n",
    "    for token in sent:\n",
    "        print(\n",
    "            token.i,\n",
    "            token.orth_,\n",
    "            token.lemma_,\n",
    "            token.norm_,\n",
    "            token.morph.get(\"Reading\"),\n",
    "            token.pos_,\n",
    "            token.morph.get(\"Inflection\"),\n",
    "            token.tag_,\n",
    "            token.dep_,\n",
    "            token.head.i,\n",
    "            token.lemma\n",
    "        )\n",
    "    print('EOS')"
   ]
  },
  {
   "cell_type": "code",
   "execution_count": 3,
   "metadata": {},
   "outputs": [],
   "source": [
    "def search_candidate(known_token, sent):\n",
    "    result = set()\n",
    "    for target_token in bunsetu_head_tokens(sent):\n",
    "        if((target_token.head.i == known_token.i) or (target_token.i == known_token.head.i)):\n",
    "            result.add(target_token.i)\n",
    "    return sorted(list(result))"
   ]
  },
  {
   "cell_type": "code",
   "execution_count": 4,
   "metadata": {},
   "outputs": [
    {
     "name": "stdout",
     "output_type": "stream",
     "text": [
      "確認してください: \"Ｘ：１：＊＊＊。\"\n"
     ]
    }
   ],
   "source": [
    "cp = corpus.Corpus(os.path.join('data','nucc','data001.txt'))"
   ]
  },
  {
   "cell_type": "code",
   "execution_count": 5,
   "metadata": {},
   "outputs": [],
   "source": [
    "dic = dict()"
   ]
  },
  {
   "cell_type": "code",
   "execution_count": 6,
   "metadata": {},
   "outputs": [
    {
     "data": {
      "text/plain": [
       "1"
      ]
     },
     "execution_count": 6,
     "metadata": {},
     "output_type": "execute_result"
    }
   ],
   "source": [
    "dic['喜ぶ'] = corpus.word(origin='喜ぶ')\n",
    "dic['喜ぶ'].set_value(1)\n"
   ]
  },
  {
   "cell_type": "code",
   "execution_count": 17,
   "metadata": {},
   "outputs": [
    {
     "data": {
      "text/plain": [
       "{'speaker': 'F107',\n",
       " 'content': 'そうしたらそのワンちゃんがなんかか喜んじゃって、で、あたしの方に走ってきて、とびついてきちゃってさ。別にあたしさあ、別にさっきなでただけなのにさあ、なんかすごーいなつかれちゃってね。'}"
      ]
     },
     "execution_count": 17,
     "metadata": {},
     "output_type": "execute_result"
    }
   ],
   "source": [
    "cp.conversation[6]"
   ]
  },
  {
   "cell_type": "code",
   "execution_count": 8,
   "metadata": {},
   "outputs": [
    {
     "name": "stdout",
     "output_type": "stream",
     "text": [
      "喜ぶ\n"
     ]
    }
   ],
   "source": [
    "for line in cp.conversation[6:7]:\n",
    "    doc = nlp(line['content'])\n",
    "    for sent in doc.sents:\n",
    "        for token in bunsetu_head_tokens(sent):\n",
    "            if(token.lemma_ in dic.keys() and dic[token.lemma_].isvisited):\n",
    "                print(token.lemma_)\n",
    "                candidates = search_candidate(token, sent)\n",
    "                for candidate_index in candidates:\n",
    "                    candidate = sent[candidate_index]\n",
    "                    if(candidate.lemma_ in dic.keys()):\n",
    "                        dic[candidate.lemma_].add_score(corpus.extract(dic[token.lemma_], dic[candidate.lemma_]))\n",
    "                    else:\n",
    "                        newword = corpus.word(token=candidate, origin=candidate.lemma_)\n",
    "                        newword.add_score(corpus.extract(dic[token.lemma_], newword))\n",
    "                        dic[candidate.lemma_] = newword\n",
    "            "
   ]
  },
  {
   "cell_type": "code",
   "execution_count": 9,
   "metadata": {},
   "outputs": [
    {
     "data": {
      "text/plain": [
       "{'喜ぶ': <corpus.word at 0x1159d0610>,\n",
       " 'する': <corpus.word at 0x116513d60>,\n",
       " 'ちゃん': <corpus.word at 0x116fda820>,\n",
       " 'なん': <corpus.word at 0x116fcf3d0>,\n",
       " '走る': <corpus.word at 0x11707a370>}"
      ]
     },
     "execution_count": 9,
     "metadata": {},
     "output_type": "execute_result"
    }
   ],
   "source": [
    "dic"
   ]
  },
  {
   "cell_type": "code",
   "execution_count": null,
   "metadata": {},
   "outputs": [],
   "source": []
  }
 ],
 "metadata": {
  "interpreter": {
   "hash": "7a0fd0f0d99e5d6864c7c7afe1c6989aa5d650cea056a3048f58a96658917535"
  },
  "kernelspec": {
   "display_name": "Python 3.9.6 ('.venv': venv)",
   "language": "python",
   "name": "python3"
  },
  "language_info": {
   "codemirror_mode": {
    "name": "ipython",
    "version": 3
   },
   "file_extension": ".py",
   "mimetype": "text/x-python",
   "name": "python",
   "nbconvert_exporter": "python",
   "pygments_lexer": "ipython3",
   "version": "3.9.6"
  },
  "orig_nbformat": 4
 },
 "nbformat": 4,
 "nbformat_minor": 2
}
