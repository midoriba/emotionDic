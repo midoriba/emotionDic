{
 "cells": [
  {
   "cell_type": "markdown",
   "metadata": {},
   "source": []
  },
  {
   "cell_type": "code",
   "execution_count": 1,
   "metadata": {},
   "outputs": [],
   "source": [
    "import corpus\n",
    "import os"
   ]
  },
  {
   "cell_type": "code",
   "execution_count": 2,
   "metadata": {},
   "outputs": [],
   "source": [
    "import CaboCha"
   ]
  },
  {
   "cell_type": "code",
   "execution_count": 3,
   "metadata": {},
   "outputs": [
    {
     "name": "stdout",
     "output_type": "stream",
     "text": [
      "* 0 2D 0/0 -2.098069\n",
      "そうしたら\t接続詞,*,*,*,*,*,そうしたら,ソウシタラ,ソーシタラ\n",
      "* 1 2D 0/1 -2.098069\n",
      "犬\t名詞,一般,*,*,*,*,犬,イヌ,イヌ\n",
      "が\t助詞,格助詞,一般,*,*,*,が,ガ,ガ\n",
      "* 2 -1D 0/3 0.000000\n",
      "走っ\t動詞,自立,*,*,五段・ラ行,連用タ接続,走る,ハシッ,ハシッ\n",
      "て\t助詞,接続助詞,*,*,*,*,て,テ,テ\n",
      "き\t動詞,非自立,*,*,カ変・クル,連用形,くる,キ,キ\n",
      "た\t助動詞,*,*,*,特殊・タ,基本形,た,タ,タ\n",
      "。\t記号,句点,*,*,*,*,。,。,。\n",
      "EOS\n",
      "\n"
     ]
    }
   ],
   "source": [
    "c = CaboCha.Parser()\n",
    "txt = 'そうしたら犬が走ってきた。'\n",
    "#txt = 'そうしたらそのワンちゃんがなんかか喜んじゃって、で、あたしの方に走ってきて、とびついてきちゃってさ。'\n",
    "tree = c.parse(txt)\n",
    "print(tree.toString(CaboCha.FORMAT_LATTICE))"
   ]
  },
  {
   "cell_type": "code",
   "execution_count": 4,
   "metadata": {},
   "outputs": [
    {
     "name": "stdout",
     "output_type": "stream",
     "text": [
      "0 2 0 0 そうしたら\n",
      "1 2 0 1 犬\n",
      "2 -1 0 3 走っ\n"
     ]
    }
   ],
   "source": [
    "id = 0\n",
    "for i in range(tree.size()):\n",
    "    token = tree.token(i)\n",
    "    if(token.chunk):\n",
    "        tmp = token.chunk\n",
    "        print(id, tmp.link, tmp.head_pos, tmp.func_pos, token.surface)\n",
    "        id += 1"
   ]
  },
  {
   "cell_type": "code",
   "execution_count": 5,
   "metadata": {},
   "outputs": [],
   "source": [
    "def bunsetsu_list(tree):\n",
    "    result = []\n",
    "    chunkindex = 0\n",
    "    for i in range(tree.size()):\n",
    "        token = tree.token(i)\n",
    "        if(token.chunk is not None):\n",
    "            features = token.feature.split(',')\n",
    "            result.append({'lemma':features[-3], 'link':token.chunk.link, 'index':chunkindex})\n",
    "            chunkindex += 1\n",
    "    return result\n",
    "\n",
    "def search_candidate(known_word_index, blist):\n",
    "    result = set()\n",
    "    for b in blist:\n",
    "        if((b['link'] == known_word_index) or (b['index'] == blist[known_word_index]['link'])):\n",
    "            result.add(b['index'])\n",
    "    return sorted(list(result))"
   ]
  },
  {
   "cell_type": "code",
   "execution_count": 6,
   "metadata": {},
   "outputs": [
    {
     "name": "stdout",
     "output_type": "stream",
     "text": [
      "確認してください: \"Ｘ：１：＊＊＊。\"\n"
     ]
    }
   ],
   "source": [
    "cp = corpus.Corpus(os.path.join('data','nucc','data001.txt'))"
   ]
  },
  {
   "cell_type": "code",
   "execution_count": 26,
   "metadata": {},
   "outputs": [],
   "source": [
    "dic = dict()\n",
    "with open(os.path.join('seeds', 'positive.txt')) as f:\n",
    "    for w in f.readlines():\n",
    "        sw = w.strip()\n",
    "        dic[sw] = corpus.word(sw)\n",
    "        dic[sw].set_value(1.)\n",
    "with open(os.path.join('seeds', 'negative.txt')) as f:\n",
    "    for w in f.readlines():\n",
    "        sw = w.strip()\n",
    "        dic[sw] = corpus.word(sw)\n",
    "        dic[sw].set_value(-1.)\n"
   ]
  },
  {
   "cell_type": "code",
   "execution_count": 27,
   "metadata": {},
   "outputs": [
    {
     "data": {
      "text/plain": [
       "{'喜ぶ': <corpus.word at 0x10daa9fd0>,\n",
       " '嬉しい': <corpus.word at 0x10daa9f40>,\n",
       " '楽しい': <corpus.word at 0x10daa9ee0>,\n",
       " '美味しい': <corpus.word at 0x10daa9e50>,\n",
       " 'きれい': <corpus.word at 0x10daa9e80>,\n",
       " '美しい': <corpus.word at 0x10d7b7220>,\n",
       " '楽しむ': <corpus.word at 0x10d7b77f0>,\n",
       " '悲しい': <corpus.word at 0x10daa9370>,\n",
       " 'さみしい': <corpus.word at 0x10d7b72e0>,\n",
       " '辛い': <corpus.word at 0x10d7b71f0>,\n",
       " '寂しい': <corpus.word at 0x10d7b7430>,\n",
       " 'きたない': <corpus.word at 0x10d7b7c40>,\n",
       " '痛い': <corpus.word at 0x10d7b7610>,\n",
       " 'まずい': <corpus.word at 0x10d7b77c0>,\n",
       " '残念': <corpus.word at 0x10d7b7ac0>}"
      ]
     },
     "execution_count": 27,
     "metadata": {},
     "output_type": "execute_result"
    }
   ],
   "source": [
    "dic"
   ]
  },
  {
   "cell_type": "code",
   "execution_count": 28,
   "metadata": {},
   "outputs": [],
   "source": [
    "def calc_score(cp, argdic):\n",
    "    c = CaboCha.Parser()\n",
    "    dic = argdic.copy()\n",
    "    for line in cp.conversation:\n",
    "        tree = c.parse(line['content'])\n",
    "        blist = bunsetsu_list(tree)\n",
    "        for bindex, b in enumerate(blist):\n",
    "            try:\n",
    "                dic['lemma'].accesscount += 1\n",
    "                if(dic[b['lemma']].isvisited):\n",
    "                    candidates = search_candidate(bindex, blist)\n",
    "                    for candidate_index in candidates:\n",
    "                        candidate = blist[candidate_index]\n",
    "                        try:\n",
    "                            dic[candidate['lemma']].add_score(corpus.extract(dic[b['lemma']], dic[candidate['lemma']]))\n",
    "                        except KeyError:\n",
    "                            newword = corpus.word(candidate['lemma'])\n",
    "                            newword.add_score(corpus.extract(dic[b['lemma']], newword))\n",
    "                            dic[candidate['lemma']] = newword\n",
    "            except KeyError:\n",
    "                continue\n",
    "    return dic\n",
    "\n",
    "def calc_value(argdic, alpha=0.5):\n",
    "    dic = argdic.copy()\n",
    "    for key in dic.keys():\n",
    "        elem = dic[key]\n",
    "        if(len(elem.score) < 1):\n",
    "            continue\n",
    "        elif(elem.isvisited):\n",
    "            dic[key].set_value(sum(elem.score)/len(elem.score) * alpha + elem.value * (1-alpha))\n",
    "        else:\n",
    "            dic[key].set_value(sum(elem.score)/len(elem.score))\n",
    "        dic[key].reset_score()\n",
    "            \n",
    "    return dic\n",
    "        "
   ]
  },
  {
   "cell_type": "code",
   "execution_count": 38,
   "metadata": {},
   "outputs": [
    {
     "name": "stdout",
     "output_type": "stream",
     "text": [
      "not enough values to unpack (expected 2, got 1)\n",
      "not enough values to unpack (expected 2, got 1)\n",
      "not enough values to unpack (expected 2, got 1)\n",
      "not enough values to unpack (expected 2, got 1)\n",
      "not enough values to unpack (expected 2, got 1)\n",
      "not enough values to unpack (expected 2, got 1)\n",
      "not enough values to unpack (expected 2, got 1)\n",
      "not enough values to unpack (expected 2, got 1)\n",
      "not enough values to unpack (expected 2, got 1)\n",
      "not enough values to unpack (expected 2, got 1)\n",
      "not enough values to unpack (expected 2, got 1)\n",
      "not enough values to unpack (expected 2, got 1)\n",
      "not enough values to unpack (expected 2, got 1)\n"
     ]
    }
   ],
   "source": [
    "for file in sorted(os.listdir(os.path.join('moddata','nucc'))):    \n",
    "    try:\n",
    "        cp = corpus.Corpus(os.path.join('moddata','nucc',file))\n",
    "    except Exception as e:\n",
    "        print(file, e)\n",
    "        pass\n",
    "        #print(file)\n",
    "    #dic = calc_score(cp, dic)\n",
    "#dic = calc_value(dic)\n",
    "\n",
    "    "
   ]
  },
  {
   "cell_type": "code",
   "execution_count": 24,
   "metadata": {},
   "outputs": [
    {
     "name": "stdout",
     "output_type": "stream",
     "text": [
      "喜ぶ, 1.0, [], (0)\n",
      "嬉しい, 1.0, [], (0)\n",
      "楽しい, 1.0, [], (0)\n",
      "美味しい, 1.0, [], (0)\n",
      "きれい, 1.0, [], (0)\n",
      "美しい, 1.0, [], (0)\n",
      "楽しむ, 1.0, [], (0)\n",
      "悲しい, -1.0, [], (0)\n",
      "さみしい, -1.0, [], (0)\n",
      "辛い, -1.0, [], (0)\n",
      "寂しい, -1.0, [], (0)\n",
      "きたない, -1.0, [], (0)\n",
      "痛い, -1.0, [], (0)\n",
      "まずい, -1.0, [], (0)\n",
      "残念, -1.0, [], (0)\n"
     ]
    }
   ],
   "source": [
    "for i in dic.keys():\n",
    "    print(dic[i])"
   ]
  },
  {
   "cell_type": "code",
   "execution_count": null,
   "metadata": {},
   "outputs": [],
   "source": []
  }
 ],
 "metadata": {
  "interpreter": {
   "hash": "7a0fd0f0d99e5d6864c7c7afe1c6989aa5d650cea056a3048f58a96658917535"
  },
  "kernelspec": {
   "display_name": "Python 3.9.6 ('.venv': venv)",
   "language": "python",
   "name": "python3"
  },
  "language_info": {
   "codemirror_mode": {
    "name": "ipython",
    "version": 3
   },
   "file_extension": ".py",
   "mimetype": "text/x-python",
   "name": "python",
   "nbconvert_exporter": "python",
   "pygments_lexer": "ipython3",
   "version": "3.9.6"
  },
  "orig_nbformat": 4
 },
 "nbformat": 4,
 "nbformat_minor": 2
}
